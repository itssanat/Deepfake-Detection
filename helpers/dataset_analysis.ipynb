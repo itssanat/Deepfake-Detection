{
 "metadata": {
  "language_info": {
   "codemirror_mode": {
    "name": "ipython",
    "version": 3
   },
   "file_extension": ".py",
   "mimetype": "text/x-python",
   "name": "python",
   "nbconvert_exporter": "python",
   "pygments_lexer": "ipython3",
   "version": "3.6.12-final"
  },
  "orig_nbformat": 2,
  "kernelspec": {
   "name": "python3",
   "display_name": "Python 3.6.12 64-bit ('dfd': conda)",
   "metadata": {
    "interpreter": {
     "hash": "363e214a3c0159605df0fe0b534f89f44fb9653db0b43fce25af7d99d1f07e69"
    }
   }
  }
 },
 "nbformat": 4,
 "nbformat_minor": 2,
 "cells": [
  {
   "cell_type": "code",
   "execution_count": null,
   "metadata": {},
   "outputs": [],
   "source": [
    "# dataset analysis \n",
    "import json\n",
    "train_frame_folder = 'train_sample_videos'\n",
    "with open(os.path.join(train_frame_folder, 'metadata.json'), 'r') as file:\n",
    "    data = json.load(file)\n",
    "list_of_train_data = [f for f in os.listdir(train_frame_folder) if f.endswith('.mp4')]\n",
    "\n",
    "real = 0\n",
    "fake = 0\n",
    "for vid in list_of_train_data:\n",
    "    if data[vid]['label'] == 'REAL':\n",
    "        real = real + 1\n",
    "    else :\n",
    "        fake = fake + 1\n",
    "print(fake, real)"
   ]
  }
 ]
}