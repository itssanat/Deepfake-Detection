{
 "metadata": {
  "language_info": {
   "codemirror_mode": {
    "name": "ipython",
    "version": 3
   },
   "file_extension": ".py",
   "mimetype": "text/x-python",
   "name": "python",
   "nbconvert_exporter": "python",
   "pygments_lexer": "ipython3",
   "version": "3.6.12-final"
  },
  "orig_nbformat": 2,
  "kernelspec": {
   "name": "python3",
   "display_name": "Python 3.6.12 64-bit ('dfd': conda)",
   "metadata": {
    "interpreter": {
     "hash": "363e214a3c0159605df0fe0b534f89f44fb9653db0b43fce25af7d99d1f07e69"
    }
   }
  }
 },
 "nbformat": 4,
 "nbformat_minor": 2,
 "cells": [
  {
   "cell_type": "code",
   "execution_count": 1,
   "metadata": {},
   "outputs": [
    {
     "output_type": "stream",
     "name": "stdout",
     "text": [
      "/home/itssanat/Desktop/dfdc_dataset\n"
     ]
    }
   ],
   "source": [
    "%cd ~/Desktop/dfdc_dataset/"
   ]
  },
  {
   "cell_type": "code",
   "execution_count": 2,
   "metadata": {},
   "outputs": [
    {
     "output_type": "stream",
     "name": "stdout",
     "text": [
      "dfdc_train_part_46\n"
     ]
    }
   ],
   "source": [
    "!ls"
   ]
  },
  {
   "cell_type": "code",
   "execution_count": 3,
   "metadata": {},
   "outputs": [],
   "source": [
    "import json\n",
    "import os\n",
    "import csv"
   ]
  },
  {
   "cell_type": "code",
   "execution_count": 13,
   "metadata": {},
   "outputs": [
    {
     "output_type": "stream",
     "name": "stdout",
     "text": [
      "778\n389 389\n"
     ]
    }
   ],
   "source": [
    "# dataset analysis \n",
    "train_frame_folder = 'dfdc_train_part_46'\n",
    "with open( os.path.join( train_frame_folder, 'metadata.json'), 'r') as file:\n",
    "    data = json.load(file)\n",
    "list_of_train_data = [f for f in os.listdir(train_frame_folder) if f.endswith('.mp4')]\n",
    "\n",
    "real = 0\n",
    "fake = 0\n",
    "print(len(list_of_train_data))\n",
    "for vid in list_of_train_data:\n",
    "    if data[vid]['label'] == 'REAL':\n",
    "        real = real + 1\n",
    "    elif data[vid]['label'] == 'FAKE' :\n",
    "        fake = fake + 1\n",
    "print(fake, real)"
   ]
  },
  {
   "cell_type": "code",
   "execution_count": 5,
   "metadata": {
    "tags": []
   },
   "outputs": [],
   "source": [
    "# remove audio altered video\n",
    "audio_altered = []\n",
    "with open('metadata_audio_altered.csv' ,'r') as csv_file:\n",
    "    csv_reader = csv.reader(csv_file , delimiter=',')\n",
    "    for lines in csv_reader:\n",
    "        audio_altered.append(lines[0])\n",
    "audio_altered.pop(0)\n",
    "\n",
    "for vid in list_of_train_data:\n",
    "    if vid in audio_altered:\n",
    "        os.remove(os.path.join(train_frame_folder , vid))"
   ]
  },
  {
   "cell_type": "code",
   "execution_count": 10,
   "metadata": {},
   "outputs": [
    {
     "output_type": "stream",
     "name": "stdout",
     "text": [
      "473 473\n"
     ]
    }
   ],
   "source": [
    "# balance dataset i.r number of real data == number of fake data \n",
    "num = fake - real\n",
    "count = 0\n",
    "for vid in list_of_train_data:\n",
    "    if data[vid]['label'] == 'FAKE' and count < num:\n",
    "        os.remove(os.path.join( train_frame_folder, vid))\n",
    "        count = count+1\n",
    "print(count, num)"
   ]
  }
 ]
}