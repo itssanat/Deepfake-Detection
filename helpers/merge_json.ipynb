{
 "metadata": {
  "language_info": {
   "codemirror_mode": {
    "name": "ipython",
    "version": 3
   },
   "file_extension": ".py",
   "mimetype": "text/x-python",
   "name": "python",
   "nbconvert_exporter": "python",
   "pygments_lexer": "ipython3",
   "version": "3.6.12"
  },
  "orig_nbformat": 2,
  "kernelspec": {
   "name": "python3",
   "display_name": "Python 3.6.12 64-bit ('dfd': conda)",
   "metadata": {
    "interpreter": {
     "hash": "363e214a3c0159605df0fe0b534f89f44fb9653db0b43fce25af7d99d1f07e69"
    }
   }
  }
 },
 "nbformat": 4,
 "nbformat_minor": 2,
 "cells": [
  {
   "cell_type": "code",
   "execution_count": 1,
   "metadata": {},
   "outputs": [
    {
     "output_type": "stream",
     "name": "stdout",
     "text": [
      "/home/itssanat/Desktop/dfdc_dataset\n"
     ]
    }
   ],
   "source": [
    "%cd ~/Desktop/dfdc_dataset/"
   ]
  },
  {
   "cell_type": "code",
   "execution_count": 2,
   "metadata": {},
   "outputs": [
    {
     "output_type": "stream",
     "name": "stdout",
     "text": [
      "dfdc_train_data    global_metadata.json  metadata_audio_altered.csv\ndfdc_train_part_1  info.txt\n"
     ]
    }
   ],
   "source": [
    "!ls"
   ]
  },
  {
   "cell_type": "code",
   "execution_count": 3,
   "metadata": {},
   "outputs": [],
   "source": [
    "import json"
   ]
  },
  {
   "cell_type": "code",
   "execution_count": 4,
   "metadata": {},
   "outputs": [],
   "source": [
    "\n",
    "with open(os.path.join('dfdc_train_data', 'metadata.json'), 'r') as file:\n",
    "    data1 = json.load(file)\n",
    "with open('global_metadata.json' , 'r') as file:\n",
    "    data2 = json.load(file)\n",
    "out_file =  open('global_metadata.json' , 'w+')\n",
    "data2.update(data1)\n",
    "json.dump(data2 , out_file)\n",
    "out_file.close()"
   ]
  }
 ]
}