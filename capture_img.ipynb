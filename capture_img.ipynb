{
  "nbformat": 4,
  "nbformat_minor": 0,
  "metadata": {
    "kernelspec": {
      "name": "python3",
      "display_name": "Python 3.6.12 64-bit ('dfd': conda)",
      "metadata": {
        "interpreter": {
          "hash": "363e214a3c0159605df0fe0b534f89f44fb9653db0b43fce25af7d99d1f07e69"
        }
      }
    },
    "language_info": {
      "codemirror_mode": {
        "name": "ipython",
        "version": 3
      },
      "file_extension": ".py",
      "mimetype": "text/x-python",
      "name": "python",
      "nbconvert_exporter": "python",
      "pygments_lexer": "ipython3",
      "version": "3.6.12-final"
    },
    "colab": {
      "name": "capture_img.ipynb",
      "provenance": [],
      "include_colab_link": true
    }
  },
  "cells": [
    {
      "cell_type": "markdown",
      "metadata": {
        "id": "view-in-github",
        "colab_type": "text"
      },
      "source": [
        "<a href=\"https://colab.research.google.com/github/itssanat/Deepfake-Detection/blob/main/capture_img.ipynb\" target=\"_parent\"><img src=\"https://colab.research.google.com/assets/colab-badge.svg\" alt=\"Open In Colab\"/></a>"
      ]
    },
    {
      "cell_type": "code",
      "metadata": {
        "id": "oMa-0X9Z-aw_",
        "colab": {
          "base_uri": "https://localhost:8080/"
        },
        "outputId": "4293d812-a12e-4f37-b44e-123e1ee9c227"
      },
      "source": [
        "from google.colab import drive\n",
        "drive.mount('/content/drive')"
      ],
      "execution_count": 1,
      "outputs": [
        {
          "output_type": "stream",
          "text": [
            "Mounted at /content/drive\n"
          ],
          "name": "stdout"
        }
      ]
    },
    {
      "cell_type": "code",
      "metadata": {
        "id": "L1PcrbAO-9Yg",
        "colab": {
          "base_uri": "https://localhost:8080/"
        },
        "outputId": "c1dc846b-3cb3-4d0e-84f0-b98d13e68dd1"
      },
      "source": [
        "%cd drive/MyDrive/Deepfake-Detection/"
      ],
      "execution_count": 2,
      "outputs": [
        {
          "output_type": "stream",
          "text": [
            "/content/drive/MyDrive/Deepfake-Detection\n"
          ],
          "name": "stdout"
        }
      ]
    },
    {
      "cell_type": "code",
      "metadata": {
        "id": "msiqVBARcXG2",
        "colab": {
          "base_uri": "https://localhost:8080/"
        },
        "outputId": "df4e342f-16c9-4060-ad78-50864c598120"
      },
      "source": [
        "!ls -all"
      ],
      "execution_count": 3,
      "outputs": [
        {
          "output_type": "stream",
          "text": [
            "total 638815\n",
            "drwx------ 2 root root      4096 Feb 11 04:53 dataset\n",
            "-rw------- 1 root root 654109576 Feb 12 05:11 deepfake-detection-model.h5\n",
            "drwx------ 2 root root      4096 Feb 22 08:56 dfdc_train_part_1and48\n",
            "drwx------ 2 root root      4096 Feb 22 13:17 dfdc_train_part_2\n",
            "drwx------ 2 root root      4096 Feb 23 07:06 dfdc_train_part_3\n",
            "drwx------ 2 root root      4096 Feb 23 11:52 dfdc_train_part_4\n",
            "drwx------ 2 root root      4096 Feb 27 04:45 dfdc_train_part_46\n",
            "drwx------ 2 root root      4096 Feb 26 09:11 dfdc_train_part_47\n",
            "drwx------ 2 root root      4096 Feb 22 10:35 dfdc_train_part_49\n",
            "drwx------ 2 root root      4096 Feb 12 05:32 test_videos\n"
          ],
          "name": "stdout"
        }
      ]
    },
    {
      "cell_type": "code",
      "metadata": {
        "id": "E1aGAEs1-Q9V"
      },
      "source": [
        "import dlib\n",
        "import cv2\n",
        "import os\n",
        "import re\n",
        "import json\n",
        "from pylab import *\n",
        "from PIL import Image, ImageChops, ImageEnhance"
      ],
      "execution_count": 4,
      "outputs": []
    },
    {
      "cell_type": "code",
      "metadata": {
        "id": "dH89VnHxvK4z",
        "colab": {
          "base_uri": "https://localhost:8080/"
        },
        "outputId": "82f41821-81c6-4127-a26a-d8fa1831ddca"
      },
      "source": [
        "train_frame_folder = 'dfdc_train_part_49'\n",
        "with open(os.path.join(train_frame_folder, 'metadata.json'), 'r') as file:\n",
        "    data = json.load(file)\n",
        "list_of_train_data = [f for f in os.listdir(train_frame_folder) if f.endswith('.mp4')]\n",
        "detector = dlib.get_frontal_face_detector()\n",
        "print(len(list_of_train_data))"
      ],
      "execution_count": 11,
      "outputs": [
        {
          "output_type": "stream",
          "text": [
            "1030\n"
          ],
          "name": "stdout"
        }
      ]
    },
    {
      "cell_type": "code",
      "metadata": {
        "id": "QdVd9mRF-Q9m",
        "colab": {
          "base_uri": "https://localhost:8080/"
        },
        "outputId": "be730a1b-6652-4bae-deeb-5dd1f9828dec"
      },
      "source": [
        "cnt =0\n",
        "for vid in list_of_train_data:\n",
        "    count = 0\n",
        "    cap = cv2.VideoCapture(os.path.join(train_frame_folder, vid))\n",
        "    frameRate = cap.get(5)\n",
        "    while cap.isOpened():\n",
        "        frameId = cap.get(1)\n",
        "        ret, frame = cap.read()\n",
        "        if ret != True:\n",
        "            break\n",
        "        if frameId % ((int(frameRate)+1)*1) == 0:\n",
        "            face_rects, scores, idx = detector.run(frame, 0)\n",
        "            for i, d in enumerate(face_rects):\n",
        "                x1 = d.left()\n",
        "                y1 = d.top()\n",
        "                x2 = d.right()\n",
        "                y2 = d.bottom()\n",
        "                crop_img = frame[y1:y2, x1:x2]\n",
        "                try:\n",
        "                    if data[vid]['label'] == 'REAL':\n",
        "                        cv2.imwrite('dataset/real/'+vid.split('.')[0]+'_'+str(count)+'.png', cv2.resize(crop_img, (128, 128)))\n",
        "                    elif data[vid]['label'] == 'FAKE':\n",
        "                        cv2.imwrite('dataset/fake/'+vid.split('.')[0]+'_'+str(count)+'.png', cv2.resize(crop_img, (128, 128)))\n",
        "                except Exception as e:\n",
        "                    print(cnt, vid)\n",
        "                    print(e)\n",
        "                count+=1\n",
        "    cnt += 1\n",
        "    if cnt%10 == 0:\n",
        "        print(cnt)\n",
        "print(cnt)\n"
      ],
      "execution_count": 12,
      "outputs": [
        {
          "output_type": "stream",
          "text": [
            "10\n",
            "20\n",
            "30\n",
            "40\n",
            "50\n",
            "60\n",
            "70\n",
            "80\n",
            "90\n",
            "100\n",
            "110\n",
            "120\n",
            "130\n",
            "140\n",
            "150\n",
            "160\n",
            "170\n",
            "180\n",
            "190\n",
            "200\n",
            "210\n",
            "220\n",
            "230\n",
            "240\n",
            "250\n",
            "260\n",
            "270\n",
            "280\n",
            "290\n",
            "300\n",
            "310\n",
            "320\n",
            "330\n",
            "340\n",
            "350\n",
            "360\n",
            "370\n",
            "380\n",
            "390\n",
            "400\n",
            "410\n",
            "420\n",
            "430\n",
            "440\n",
            "450\n",
            "460\n",
            "470\n",
            "480\n",
            "490\n",
            "500\n",
            "510\n",
            "520\n",
            "530\n",
            "540\n",
            "550\n",
            "560\n",
            "570\n",
            "580\n",
            "590\n",
            "600\n",
            "610\n",
            "620\n",
            "630\n",
            "640\n",
            "650\n",
            "660\n",
            "670\n",
            "680\n",
            "690\n",
            "700\n",
            "710\n",
            "720\n",
            "730\n",
            "740\n",
            "750\n",
            "760\n",
            "770\n",
            "780\n",
            "790\n",
            "800\n",
            "810\n",
            "820\n",
            "830\n",
            "840\n",
            "850\n",
            "858 xqzzydzmtq.mp4\n",
            "OpenCV(4.1.2) /io/opencv/modules/imgproc/src/resize.cpp:3720: error: (-215:Assertion failed) !ssize.empty() in function 'resize'\n",
            "\n",
            "860\n",
            "870\n",
            "880\n",
            "890\n",
            "900\n",
            "910\n",
            "920\n",
            "930\n",
            "940\n",
            "950\n",
            "960\n",
            "970\n",
            "980\n",
            "990\n",
            "1000\n",
            "1010\n",
            "1020\n",
            "1030\n",
            "1030\n"
          ],
          "name": "stdout"
        }
      ]
    }
  ]
}